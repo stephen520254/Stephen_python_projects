{
 "cells": [
  {
   "cell_type": "code",
   "execution_count": 2,
   "id": "12a493cf",
   "metadata": {},
   "outputs": [],
   "source": [
    "import numpy as np\n",
    "import pandas as pd\n",
    "import warnings\n",
    "warnings.filterwarnings('ignore')\n",
    "import re\n",
    "from datetime import datetime as dt\n",
    "pd.set_option('display.max_rows', None)\n",
    "import tabula\n",
    "from tabula.io import read_pdf\n",
    "import os\n",
    "import sys"
   ]
  },
  {
   "cell_type": "markdown",
   "id": "f2cb1e08",
   "metadata": {},
   "source": [
    "# PDF file input"
   ]
  },
  {
   "cell_type": "code",
   "execution_count": 3,
   "id": "7d7f4fb4",
   "metadata": {},
   "outputs": [],
   "source": [
    "# read excel sheet of input files and assign to df\n",
    "\n",
    "path = r'C:\\Users\\stephenl\\GC International AG\\TM-GCASIA-Regulatory_Affairs - Automation\\rauploadfolder\\\\'\n",
    "\n",
    "\n",
    "# df = pd.read_excel('input_files2.xlsx')\n",
    "\n",
    "# make list of OA and PI files\n",
    "# df=df.fillna(0)\n",
    "oa_files = []\n",
    "pi_files = []\n",
    "other_files = []\n",
    "            \n",
    "            \n",
    "# iterate thru the files\n",
    "for x in os.listdir(path):\n",
    "    try:\n",
    "        filename, extension = os.path.splitext(x)\n",
    "#             print(filename, extension)\n",
    "        if extension == '.pdf':\n",
    "            oa_files.append(x)\n",
    "        elif extension == '.csv':\n",
    "            pi_files.append(x)\n",
    "        else:\n",
    "            other_files.append(x)\n",
    "    except:\n",
    "        continue\n",
    "                \n",
    "        \n",
    "        \n"
   ]
  },
  {
   "cell_type": "code",
   "execution_count": 4,
   "id": "69db14bd",
   "metadata": {},
   "outputs": [
    {
     "data": {
      "text/plain": [
       "['1. ACRON_AKL20602816887_ex14.10.26.pdf',\n",
       " '10. Equia Forte Coat_AKL20602711217_ex11.10.23.pdf',\n",
       " '11.1 EQUIA Forte Coat Flip Cap_AKL20602022470_ex30.10.24_Variation.pdf']"
      ]
     },
     "execution_count": 4,
     "metadata": {},
     "output_type": "execute_result"
    }
   ],
   "source": [
    "oa_files"
   ]
  },
  {
   "cell_type": "code",
   "execution_count": 5,
   "id": "5e0c1f81",
   "metadata": {},
   "outputs": [
    {
     "name": "stdout",
     "output_type": "stream",
     "text": [
      "Converting OA PDF files to Excel Workbook. Please wait a few minutes......\n",
      "1. ACRON_AKL20602816887_ex14.10.26.pdf is corrupted. Please remove this OA and PI from data_input folder and run again....terminating sequence.\n"
     ]
    },
    {
     "ename": "SystemExit",
     "evalue": "",
     "output_type": "error",
     "traceback": [
      "An exception has occurred, use %tb to see the full traceback.\n",
      "\u001b[1;31mSystemExit\u001b[0m\n"
     ]
    }
   ],
   "source": [
    "print(\"Converting OA PDF files to Excel Workbook. Please wait a few minutes......\")\n",
    "# concatenate OA files\n",
    "attach=pd.DataFrame()\n",
    "\n",
    "oa_po = pd.DataFrame(columns=['oa_filename','po_number'])\n",
    "\n",
    "      \n",
    "#counter\n",
    "e=[] # empty list to contain po_num (which recurr)\n",
    "h=0 # row number for OA and PI reference file\n",
    "j=1 # counter for po_num file name (in case where there are recurring po_num)\n",
    "for i in oa_files:\n",
    "    df_ = read_pdf(path+i, pages='all', encoding='latin1')\n",
    "    if len(df_)==0:\n",
    "        with open(path+\"Alert.txt\",\"w\") as b:\n",
    "            b.write(f\"{i} is corrupted. Please remove this OA and PI from data_input folder and run again....terminating sequence.\")\n",
    "        print(f\"{i} is corrupted. Please remove this OA and PI from data_input folder and run again....terminating sequence.\")\n",
    "        sys.exit()\n",
    "    else:\n",
    "        new, others, po_num=execute(df_)"
   ]
  },
  {
   "cell_type": "code",
   "execution_count": null,
   "id": "dc390d48",
   "metadata": {},
   "outputs": [],
   "source": []
  },
  {
   "cell_type": "code",
   "execution_count": null,
   "id": "a205d6a6",
   "metadata": {},
   "outputs": [],
   "source": [
    "\n",
    "    \n",
    "#     # combine body and other info such as packing charges and del po_numT column\n",
    "#     converted = pd.concat([new,others])\n",
    "    \n",
    "#     del converted['po_numT']\n",
    "\n",
    "#     # save fully converted OA record\n",
    "    \n",
    "#     if po_num in e:\n",
    "#         po_num=po_num+'_'+str(j)\n",
    "#         converted.to_excel(path_output+f'1_ponum_{po_num}.xlsx', index=False)\n",
    "#         j+=1\n",
    "#     else:\n",
    "#         converted.to_excel(path_output+f'1_ponum_{po_num}.xlsx', index=False)\n",
    "#         e.append(po_num)\n",
    "        \n",
    "        \n",
    "#     # Create OA and PO reference file\n",
    "#     oa_po.loc[h,'oa_filename']=i\n",
    "#     oa_po.loc[h,'po_number']=po_num\n",
    "#     h+=1\n",
    "\n",
    "#     attach = pd.concat([attach,new])\n",
    "#     attach = attach.reset_index(drop=True)\n",
    "\n",
    "# # reference to indicate PO numbers belong to which OA filenames\n",
    "# oa_po.to_excel(path_output+'OA and PO Numbers.xlsx', index=False)\n",
    "\n",
    "\n",
    "# # execute2\n",
    "# # groupby OAs by  PO numbers\n",
    "\n",
    "# print(\"Consolidating OA files.......\")\n",
    "\n",
    "# non_promo_gby, promo_gby, temp_under16, tot_gby = execute2(attach) # execution step\n",
    "\n",
    "# non_promo_gby.to_excel(path_output+'2_OA Non_Promo Consolidated file.xlsx',index=False)\n",
    "\n",
    "# promo_gby.to_excel(path_output+'2_OA Promo Consolidated file.xlsx',index=False)\n",
    "\n",
    "# temp_under16.to_excel(path_output+'2_OA under16 Consolidated file.xlsx',index=False)\n"
   ]
  }
 ],
 "metadata": {
  "kernelspec": {
   "display_name": "Python 3 (ipykernel)",
   "language": "python",
   "name": "python3"
  },
  "language_info": {
   "codemirror_mode": {
    "name": "ipython",
    "version": 3
   },
   "file_extension": ".py",
   "mimetype": "text/x-python",
   "name": "python",
   "nbconvert_exporter": "python",
   "pygments_lexer": "ipython3",
   "version": "3.9.7"
  }
 },
 "nbformat": 4,
 "nbformat_minor": 5
}
