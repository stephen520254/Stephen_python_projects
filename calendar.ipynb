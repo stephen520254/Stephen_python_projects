{
 "cells": [
  {
   "cell_type": "code",
   "execution_count": null,
   "id": "b721af97",
   "metadata": {},
   "outputs": [],
   "source": [
    "pip install icalendar"
   ]
  },
  {
   "cell_type": "code",
   "execution_count": 1,
   "id": "b7bd9a39",
   "metadata": {},
   "outputs": [],
   "source": [
    "# import calendar\n",
    "# from calendar import monthrange\n",
    "\n",
    "from icalendar import Calendar, Event, vCalAddress, vText"
   ]
  },
  {
   "cell_type": "code",
   "execution_count": 2,
   "id": "c61484b4",
   "metadata": {},
   "outputs": [
    {
     "ename": "NameError",
     "evalue": "name 'calendar' is not defined",
     "output_type": "error",
     "traceback": [
      "\u001b[1;31m---------------------------------------------------------------------------\u001b[0m",
      "\u001b[1;31mNameError\u001b[0m                                 Traceback (most recent call last)",
      "\u001b[1;32mC:\\Users\\STEPHE~1.CHA\\AppData\\Local\\Temp/ipykernel_18720/3088383074.py\u001b[0m in \u001b[0;36m<module>\u001b[1;34m\u001b[0m\n\u001b[1;32m----> 1\u001b[1;33m \u001b[0mc\u001b[0m \u001b[1;33m=\u001b[0m \u001b[0mcalendar\u001b[0m\u001b[1;33m.\u001b[0m\u001b[0mTextCalendar\u001b[0m\u001b[1;33m(\u001b[0m\u001b[1;33m)\u001b[0m\u001b[1;33m\u001b[0m\u001b[1;33m\u001b[0m\u001b[0m\n\u001b[0m\u001b[0;32m      2\u001b[0m \u001b[0mstr\u001b[0m \u001b[1;33m=\u001b[0m \u001b[0mc\u001b[0m\u001b[1;33m.\u001b[0m\u001b[0mformatmonth\u001b[0m\u001b[1;33m(\u001b[0m\u001b[1;36m2016\u001b[0m\u001b[1;33m,\u001b[0m\u001b[1;36m10\u001b[0m\u001b[1;33m)\u001b[0m\u001b[1;33m\u001b[0m\u001b[1;33m\u001b[0m\u001b[0m\n\u001b[0;32m      3\u001b[0m \u001b[0mprint\u001b[0m\u001b[1;33m(\u001b[0m\u001b[0mstr\u001b[0m\u001b[1;33m)\u001b[0m\u001b[1;33m\u001b[0m\u001b[1;33m\u001b[0m\u001b[0m\n",
      "\u001b[1;31mNameError\u001b[0m: name 'calendar' is not defined"
     ]
    }
   ],
   "source": [
    "c = calendar.TextCalendar()\n",
    "str = c.formatmonth(2016,10)\n",
    "print(str)"
   ]
  },
  {
   "cell_type": "code",
   "execution_count": null,
   "id": "c4b5a406",
   "metadata": {},
   "outputs": [],
   "source": [
    "monthrange(2016,10)"
   ]
  },
  {
   "cell_type": "code",
   "execution_count": null,
   "id": "5b76c963",
   "metadata": {},
   "outputs": [],
   "source": [
    "cal1 = calendar.monthcalendar(2016,5)\n",
    "print(cal1)"
   ]
  },
  {
   "cell_type": "code",
   "execution_count": null,
   "id": "9cc9630f",
   "metadata": {},
   "outputs": [],
   "source": [
    "print(calendar.month_name[1])"
   ]
  },
  {
   "cell_type": "code",
   "execution_count": null,
   "id": "7375423e",
   "metadata": {},
   "outputs": [],
   "source": [
    "monthrange(2016,8)"
   ]
  },
  {
   "cell_type": "code",
   "execution_count": null,
   "id": "4b417822",
   "metadata": {},
   "outputs": [],
   "source": [
    "for n in calendar.day_name:\n",
    "    print(n)"
   ]
  },
  {
   "cell_type": "code",
   "execution_count": null,
   "id": "d69a6a97",
   "metadata": {},
   "outputs": [],
   "source": [
    "mycal = calendar.monthcalendar(2022,2)\n",
    "wk1 = mycal[0]\n",
    "wk2 = mycal[1]\n"
   ]
  },
  {
   "cell_type": "code",
   "execution_count": null,
   "id": "69fe8ce4",
   "metadata": {},
   "outputs": [],
   "source": [
    "mycal"
   ]
  },
  {
   "cell_type": "code",
   "execution_count": null,
   "id": "3603ad97",
   "metadata": {},
   "outputs": [],
   "source": [
    "for m in range(1,13):\n",
    "    mycal = calendar.monthcalendar(2022,m)\n",
    "    wk1 = mycal[0]\n",
    "    wk2 = mycal[1]\n",
    "    if wk1[calendar.MONDAY]!=0:\n",
    "        auditday = wk1[calendar.MONDAY]\n",
    "    else:\n",
    "        auditday = wk2[calendar.MONDAY]\n",
    "    print (calendar.month_name[m], auditday)"
   ]
  },
  {
   "cell_type": "code",
   "execution_count": null,
   "id": "5ab57ea7",
   "metadata": {},
   "outputs": [],
   "source": [
    "for s in range(1,13):\n",
    "    cal2 = calendar.monthcalendar(2022,s)\n",
    "    wk1 = cal2[0]\n",
    "    wk2 = cal2[1]\n",
    "    if wk1[calendar.FRIDAY]!=0:\n",
    "        partyday = wk1[calendar.FRIDAY]\n",
    "    else:\n",
    "        partyday = wk2[calendar.FRIDAY]\n",
    "    print(calendar.month_name[s], partyday)"
   ]
  },
  {
   "cell_type": "code",
   "execution_count": null,
   "id": "7ca71058",
   "metadata": {},
   "outputs": [],
   "source": [
    "print(calendar.monthcalendar(2022,5))"
   ]
  },
  {
   "cell_type": "code",
   "execution_count": null,
   "id": "bfd5191e",
   "metadata": {},
   "outputs": [],
   "source": [
    "print(calendar.weekday(2022,5,30))"
   ]
  },
  {
   "cell_type": "code",
   "execution_count": null,
   "id": "1743a353",
   "metadata": {},
   "outputs": [],
   "source": []
  }
 ],
 "metadata": {
  "kernelspec": {
   "display_name": "Python 3 (ipykernel)",
   "language": "python",
   "name": "python3"
  },
  "language_info": {
   "codemirror_mode": {
    "name": "ipython",
    "version": 3
   },
   "file_extension": ".py",
   "mimetype": "text/x-python",
   "name": "python",
   "nbconvert_exporter": "python",
   "pygments_lexer": "ipython3",
   "version": "3.9.7"
  }
 },
 "nbformat": 4,
 "nbformat_minor": 5
}
