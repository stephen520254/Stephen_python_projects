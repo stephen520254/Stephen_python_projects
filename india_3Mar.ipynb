{
 "cells": [
  {
   "cell_type": "code",
   "execution_count": 1,
   "id": "0b17abfc",
   "metadata": {},
   "outputs": [],
   "source": [
    "import numpy as np\n",
    "import pandas as pd\n",
    "import openpyxl\n",
    "pd.set_option('display.max_rows', None)\n",
    "pd.set_option('display.max_columns', None)\n",
    "import re\n",
    "import os\n",
    "import warnings\n",
    "warnings.filterwarnings('ignore')\n",
    "from datetime import datetime"
   ]
  },
  {
   "cell_type": "code",
   "execution_count": 2,
   "id": "48eedee7",
   "metadata": {},
   "outputs": [],
   "source": [
    "# # stephen\n",
    "# input_path = r'C:\\Users\\stephenl\\OneDrive - GC International AG\\ML\\orderCheck_india\\input_data\\\\'\n",
    "# output_path = r'C:\\Users\\stephenl\\OneDrive - GC International AG\\ML\\orderCheck_india\\output_data\\\\'"
   ]
  },
  {
   "cell_type": "code",
   "execution_count": 3,
   "id": "7165c775",
   "metadata": {},
   "outputs": [],
   "source": [
    "# # Michelle\n",
    "# input_path = r'C:\\Users\\michelle.tan\\OneDrive - GC International AG\\orderCheck_india\\input_data\\\\'\n",
    "# output_path = r'C:\\Users\\michelle.tan\\OneDrive - GC International AG\\orderCheck_india\\output_data\\\\'"
   ]
  },
  {
   "cell_type": "code",
   "execution_count": null,
   "id": "88ee3635",
   "metadata": {},
   "outputs": [],
   "source": [
    "# Jenny\n",
    "input_path = r'C:\\Users\\jenny.loo\\OneDrive - GC International AG\\orderListData\\data_input_india\\\\'\n",
    "output_path = r'C:\\Users\\jenny.loo\\OneDrive - GC International AG\\orderListData\\data_output_india\\\\'"
   ]
  },
  {
   "cell_type": "code",
   "execution_count": 4,
   "id": "7b9e616f",
   "metadata": {},
   "outputs": [],
   "source": [
    "# create function\n",
    "def transform(i):\n",
    "\n",
    "    txt = pd.read_csv(input_path+i,delimiter = \"\\t\")\n",
    "\n",
    "    def tgt(s):\n",
    "        for i in s:\n",
    "            return i\n",
    "\n",
    "    # create new dataframe\n",
    "\n",
    "    df = pd.DataFrame(columns = ['productcode','qty','unitprice','total','po_num'])\n",
    "\n",
    "    \n",
    "\n",
    "    list1=[]\n",
    "    for i in txt['TextField69']:\n",
    "        if re.search(r'(\\d+.\\d\\d\\d$)',i): # function to remove decimal point from thousands\n",
    "            list1.append(i.replace('.',''))\n",
    "        elif re.search(r',\\d{3}.\\d\\d$',i): # remove comma from thousand\n",
    "            list1.append(i.replace(',',''))\n",
    "        else:\n",
    "            list1.append(i)\n",
    "            \n",
    "    txt['TextField69']=list1\n",
    "            \n",
    "\n",
    "\n",
    "    # iterate thru the txt\n",
    "\n",
    "    h=0\n",
    "    for m in range(len(txt)-1):\n",
    "        t = tgt(txt.loc[m])\n",
    "    #     print(f\"capture {t}\")\n",
    "        t2 = tgt(txt.loc[m+1])\n",
    "        # extract po number\n",
    "        if re.search(r'^\\d{3}/GCC',t):\n",
    "            a = t\n",
    "        # extract Quantity for non floating numbers\n",
    "        if re.search(r'Quantity',t) and re.search(r'^\\d+$',t2):\n",
    "            df.loc[h,'qty']=t2\n",
    "        # extract Unitprice for floating numbers only\n",
    "        if re.search(r'Unitprice',t) and re.search(r'^\\d+.\\d\\d$',t2):\n",
    "            df.loc[h,'unitprice']=t2\n",
    "        if re.search(r'Material',t) and re.search(r'^(\\d(\\s+)?){6}$',t2):\n",
    "            df.loc[h,'productcode']=t2\n",
    "            df.loc[h,'po_num']=a\n",
    "        h+=1\n",
    "        \n",
    "    dftotal = pd.DataFrame(columns = ['productcode','po_num','qty','unitprice','total'])\n",
    "    df1 = df[['productcode']].dropna().reset_index(drop=True)\n",
    "    df4 = df[['po_num']].dropna().reset_index(drop=True)\n",
    "    df2 = df[['qty']].dropna().reset_index(drop=True)\n",
    "    df3 = df[['unitprice']].dropna().reset_index(drop=True)\n",
    "    \n",
    "    dftotal = pd.concat([df1,df4,df2,df3], axis=1)\n",
    "    \n",
    "    # convert all to numbers\n",
    "    dftotal.qty = [int(i) for i in dftotal.qty]\n",
    "    dftotal.unitprice = [float(i) for i in dftotal.unitprice]\n",
    "    \n",
    "    # fill in total column\n",
    "    dftotal['total']=dftotal.qty * dftotal.unitprice\n",
    "    \n",
    "    dftotal = dftotal.reset_index(drop=True)\n",
    "        \n",
    "    return dftotal\n",
    "\n",
    "# return today's date\n",
    "def today():\n",
    "    return datetime.now().strftime('%d-%b-%y_%I_%M_%S_%p')"
   ]
  },
  {
   "cell_type": "code",
   "execution_count": 5,
   "id": "5209b43c",
   "metadata": {},
   "outputs": [],
   "source": [
    "# change directory to input path\n",
    "os.chdir(input_path)\n",
    "\n",
    "# ensure each document calculation is correct\n",
    "def checknum(f):\n",
    "    list2 = f.count().tolist()\n",
    "    d = list2[0]\n",
    "    return any(i == d for i in list2)\n",
    "\n",
    "# concatenate all invoices together\n",
    "\n",
    "os.chdir(input_path)\n",
    "os.listdir(input_path)\n",
    "df2 = pd.DataFrame()\n",
    "for i in os.listdir(input_path):\n",
    "    file,ext = os.path.splitext(i)\n",
    "    if re.search(r'^INV',i) and ext=='.txt':\n",
    "        df3 = transform(i)\n",
    "        # condition: df3 must not be empty, all column lengths must be equal\n",
    "        if len(df3)>0 and checknum(df3):\n",
    "            df2=pd.concat([df2,df3])\n",
    "        else:\n",
    "            with open(output_path+f\"Alert_{i}_.txt\", \"w\") as f:\n",
    "                f.write(f\"{i} needs fixing, and will be excluded from the computation results.\")\n",
    "            print(f'Oops! {i} needs fixing, and will be excluded from the computation results.')\n",
    "            continue\n",
    "    else:\n",
    "        continue\n",
    "df2 = df2.reset_index(drop=True)"
   ]
  },
  {
   "cell_type": "code",
   "execution_count": 6,
   "id": "89535d66",
   "metadata": {},
   "outputs": [],
   "source": [
    "# make a copy of df2 and assign to df6\n",
    "df6=df2.copy()"
   ]
  },
  {
   "cell_type": "code",
   "execution_count": 7,
   "id": "29a6c52c",
   "metadata": {},
   "outputs": [],
   "source": [
    "# rename productcode to productcode_6\n",
    "\n",
    "df2.rename(columns={'productcode': 'productcode_6'}, inplace=True)\n",
    "\n",
    "# trim the columns\n",
    "df2 = df2[['productcode_6','po_num','qty']]"
   ]
  },
  {
   "cell_type": "markdown",
   "id": "b74e224a",
   "metadata": {},
   "source": [
    "## Read master india"
   ]
  },
  {
   "cell_type": "code",
   "execution_count": 8,
   "id": "d1317992",
   "metadata": {},
   "outputs": [],
   "source": [
    "# read master record\n",
    "ms = pd.read_excel(input_path+'master_india.xlsx', sheet_name='INR Price list to GCIndia 0421 ')"
   ]
  },
  {
   "cell_type": "code",
   "execution_count": 9,
   "id": "0658f5a1",
   "metadata": {},
   "outputs": [],
   "source": [
    "ms=(ms[['Global Code','Column1','Description','New price from GC Asia to GC India (S$)                 As from Apr 2017',\n",
    "       'INR price from GC Asia to GC India effective April 2021 orders \\n(exchange rate 52.20)']])"
   ]
  },
  {
   "cell_type": "code",
   "execution_count": 10,
   "id": "2d84c885",
   "metadata": {},
   "outputs": [],
   "source": [
    "ms.columns = [' '.join(i.split()) for i in ms.columns]"
   ]
  },
  {
   "cell_type": "code",
   "execution_count": 11,
   "id": "e6f55f0c",
   "metadata": {},
   "outputs": [],
   "source": [
    "ms.rename(columns={'Global Code':'productcode_6','Column1':'productcode_12','Description':'description',\n",
    "                  'New price from GC Asia to GC India (S$) As from Apr 2017':'sgd_price',\n",
    "                  'INR price from GC Asia to GC India effective April 2021 orders (exchange rate 52.20)':'inr_price'},\n",
    "         inplace=True)"
   ]
  },
  {
   "cell_type": "code",
   "execution_count": 12,
   "id": "f9d3285f",
   "metadata": {},
   "outputs": [],
   "source": [
    "# convert productcode_6 to str\n",
    "\n",
    "ms.productcode_6 = ms.productcode_6.astype(str)"
   ]
  },
  {
   "cell_type": "code",
   "execution_count": 13,
   "id": "67e6fe1e",
   "metadata": {},
   "outputs": [],
   "source": [
    "# product leading zeros\n",
    "\n",
    "leadingzeros = (lambda x: '0'+x[:-2] if len(x)==7 else '00'+x[:-2] if len(x)==6 else '000'+x[:-2] if len(x)==5 else\n",
    "               '0000'+x[:-2] if len(x)==4 else '00000'+x[:-2] if len(x)==3 else '000000'+x[:-2] if len(x)==2 else 'na')"
   ]
  },
  {
   "cell_type": "code",
   "execution_count": 14,
   "id": "ce889998",
   "metadata": {},
   "outputs": [],
   "source": [
    "ms.productcode_6 = [leadingzeros(i) for i in ms.productcode_6]"
   ]
  },
  {
   "cell_type": "code",
   "execution_count": 15,
   "id": "04d78678",
   "metadata": {},
   "outputs": [],
   "source": [
    "ms=ms.dropna()"
   ]
  },
  {
   "cell_type": "markdown",
   "id": "d3f6da20",
   "metadata": {},
   "source": [
    "## Merge both files"
   ]
  },
  {
   "cell_type": "code",
   "execution_count": 18,
   "id": "b6a7cf3b",
   "metadata": {},
   "outputs": [],
   "source": [
    "new= df2.merge(ms, left_on='productcode_6',right_on='productcode_6')"
   ]
  },
  {
   "cell_type": "code",
   "execution_count": 19,
   "id": "d3c388f5",
   "metadata": {},
   "outputs": [],
   "source": [
    "new['total_sgd']=new.qty * new.sgd_price\n",
    "new['total_inr']=new.qty * new.inr_price\n",
    "new['price_source']='master'"
   ]
  },
  {
   "cell_type": "code",
   "execution_count": 20,
   "id": "ff3a2087",
   "metadata": {},
   "outputs": [],
   "source": [
    "# # rename inr_price to merge with df9\n",
    "# new1 = new.rename(columns={'inr_price':'inr_price2'})\n",
    "\n",
    "new.head()\n",
    "new = (new[['productcode_6','productcode_12','po_num','description','qty','sgd_price','total_sgd','inr_price',\n",
    "           'total_inr','price_source']])"
   ]
  },
  {
   "cell_type": "code",
   "execution_count": 21,
   "id": "8db6b81d",
   "metadata": {},
   "outputs": [],
   "source": [
    "# # save to excel\n",
    "# new.to_excel(output_path+'tax_invoice.xlsx', index=False)\n",
    "h=today()\n",
    "new.to_excel(output_path+f'india_{h}.xlsx',index=False)"
   ]
  },
  {
   "cell_type": "code",
   "execution_count": 31,
   "id": "44027a55",
   "metadata": {
    "scrolled": true
   },
   "outputs": [],
   "source": [
    "new1=new.groupby(['productcode_6','productcode_12','po_num','description','sgd_price','inr_price','price_source']).\\\n",
    "agg(qty=('qty','sum')).reset_index()"
   ]
  },
  {
   "cell_type": "code",
   "execution_count": 32,
   "id": "d2ad5a95",
   "metadata": {},
   "outputs": [],
   "source": [
    "new1['total_sgd']=new1.sgd_price*new1.qty\n",
    "new1['total_inr']=new1.inr_price*new1.qty"
   ]
  },
  {
   "cell_type": "code",
   "execution_count": 33,
   "id": "9247c780",
   "metadata": {},
   "outputs": [],
   "source": [
    "new1 = new1[['productcode_6','productcode_12','po_num','description','qty','sgd_price','total_sgd','inr_price',\\\n",
    "            'total_inr','price_source']]"
   ]
  },
  {
   "cell_type": "markdown",
   "id": "7a393f67",
   "metadata": {},
   "source": [
    "## compare price "
   ]
  },
  {
   "cell_type": "code",
   "execution_count": 34,
   "id": "53a777f2",
   "metadata": {},
   "outputs": [],
   "source": [
    "# prepare invoice file for comparison by trimming columns\n",
    "\n",
    "df6.rename(columns={'productcode':'productcode_6'},inplace=True)\n",
    "\n",
    "inv = df6.merge(ms, left_on='productcode_6', right_on='productcode_6')\n",
    "\n",
    "inv['price_source']='invoice'\n",
    "\n",
    "inv = inv[['productcode_6','productcode_12','unitprice','price_source']]\n",
    "\n",
    "inv.rename(columns={'unitprice':'inr_price'},inplace=True)\n"
   ]
  },
  {
   "cell_type": "code",
   "execution_count": 35,
   "id": "b5d00d36",
   "metadata": {},
   "outputs": [],
   "source": [
    "# preparing master file for price comparison and assign to mas\n",
    "\n",
    "mas = new1[['productcode_6','productcode_12','inr_price','price_source']]"
   ]
  },
  {
   "cell_type": "code",
   "execution_count": 36,
   "id": "5bc63c81",
   "metadata": {},
   "outputs": [],
   "source": [
    "# compare inv and mas\n",
    "\n",
    "x = pd.concat([inv,mas])\n",
    "compare = x.drop_duplicates(subset=['productcode_6','inr_price'],keep=False)"
   ]
  },
  {
   "cell_type": "code",
   "execution_count": 37,
   "id": "648c9226",
   "metadata": {},
   "outputs": [],
   "source": [
    "# # save to excel\n",
    "# df5.to_excel(output_path+'tax_invoice.xlsx', index=False)\n",
    "h=today()\n",
    "compare.to_excel(output_path+f'india_price_compare_{h}.xlsx',index=False)"
   ]
  },
  {
   "cell_type": "code",
   "execution_count": null,
   "id": "d0d5335b",
   "metadata": {},
   "outputs": [],
   "source": []
  }
 ],
 "metadata": {
  "kernelspec": {
   "display_name": "Python 3 (ipykernel)",
   "language": "python",
   "name": "python3"
  },
  "language_info": {
   "codemirror_mode": {
    "name": "ipython",
    "version": 3
   },
   "file_extension": ".py",
   "mimetype": "text/x-python",
   "name": "python",
   "nbconvert_exporter": "python",
   "pygments_lexer": "ipython3",
   "version": "3.9.7"
  }
 },
 "nbformat": 4,
 "nbformat_minor": 5
}
